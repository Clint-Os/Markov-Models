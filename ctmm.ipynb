{
 "cells": [
  {
   "cell_type": "markdown",
   "id": "ee258548",
   "metadata": {},
   "source": [
    "# Markov Models in Pharmacometric Analyses: A Gentle Technical Guide for Early-Career Researchers\n",
    "\n",
    "  \n",
    "**Notebook Purpose:**  \n",
    "This notebook demonstrates how to simulate and visualize disease state transitions using a Continuous-Time Markov Model (CTMM).  \n",
    "It accompanies the blog *“Understanding Markov Models in Pharmacometric Analyses: A Gentle Technical Guide for Early-Career Researchers”*.\n",
    "\n",
    "**Objectives**\n",
    "1. Understand the basic structure of CTMMs  \n",
    "2. Simulate disease state transitions over time  \n",
    "3. Visualize patient trajectories  \n",
    "4. Provide a base for future model fitting and expansion  \n",
    "\n",
    "---\n"
   ]
  },
  {
   "cell_type": "code",
   "execution_count": 1,
   "id": "7264e1fc",
   "metadata": {},
   "outputs": [],
   "source": [
    "import numpy as np \n",
    "import pandas as pd\n",
    "import matplotlib.pyplot as plt \n"
   ]
  },
  {
   "cell_type": "code",
   "execution_count": null,
   "id": "5327201d",
   "metadata": {},
   "outputs": [
    {
     "data": {
      "text/plain": [
       "True"
      ]
     },
     "execution_count": 2,
     "metadata": {},
     "output_type": "execute_result"
    }
   ],
   "source": [
    "#simulate disease transitions\n",
    "\n",
    "states = [\"Healthy\", \"Mild\", \"Severe\"]\n",
    "\n",
    "Q = np.array ([\n",
    "    [-0.2, 0.2, 0.0], #healthy -> mild\n",
    "    [0.05, -0.15, 0.1], # mild -> severe or back to healthy\n",
    "    [0.0, 0.1, -0.1] #severe -> mild\n",
    "])\n",
    "\n",
    "#each row should sum to 0 \n",
    "np.allclose(Q.sum(axis=1), 0)  "
   ]
  },
  {
   "cell_type": "markdown",
   "id": "50868930",
   "metadata": {},
   "source": [
    "Compute transition probabilities"
   ]
  },
  {
   "cell_type": "code",
   "execution_count": 4,
   "id": "00833b03",
   "metadata": {},
   "outputs": [
    {
     "name": "stdout",
     "output_type": "stream",
     "text": [
      "Transition matrix over 1 year: \n",
      " [[0.82290053 0.16847624 0.00862323]\n",
      " [0.04211906 0.86933121 0.08854973]\n",
      " [0.00215581 0.08854973 0.90929446]]\n"
     ]
    }
   ],
   "source": [
    "from scipy.linalg import expm \n",
    "\n",
    "def transition_matrix(Q, t):\n",
    "    return expm(Q * t)\n",
    "\n",
    "#example of transition probabilities over 1 year\n",
    "\n",
    "t = 1.0\n",
    "P_1yr = transition_matrix(Q, t)\n",
    "print(\"Transition matrix over 1 year: \\n\", P_1yr)"
   ]
  },
  {
   "cell_type": "markdown",
   "id": "49a66215",
   "metadata": {},
   "source": [
    "Simulate patient trajectories"
   ]
  },
  {
   "cell_type": "code",
   "execution_count": 7,
   "id": "bcd49780",
   "metadata": {},
   "outputs": [],
   "source": [
    "def simulate_patient(Q, start_state, time_horizon, dt=0.1):\n",
    "    states = len(Q)\n",
    "    current = start_state\n",
    "    times = np.arange(0, time_horizon + dt, dt)\n",
    "    trajectory = [] #store state at each time point\n",
    "\n",
    "    for t in times:\n",
    "        trajectory.append(current)\n",
    "        P = transition_matrix(Q, dt)\n",
    "        current = np.random.choice(states, p=P[current]) #sample next state\n",
    "\n",
    "    return times, trajectory #list of states over time"
   ]
  },
  {
   "cell_type": "code",
   "execution_count": 8,
   "id": "f97dc54c",
   "metadata": {},
   "outputs": [],
   "source": [
    "#simulate one patient over 10 years starting healthy\n",
    "times, traj = simulate_patient(Q, start_state=0, time_horizon=10) "
   ]
  },
  {
   "cell_type": "code",
   "execution_count": 9,
   "id": "1c00fa40",
   "metadata": {},
   "outputs": [
    {
     "data": {
      "image/png": "[encoded data removed]",
      "text/plain": [
       "<Figure size 1200x400 with 1 Axes>"
      ]
     },
     "metadata": {},
     "output_type": "display_data"
    }
   ],
   "source": [
    "plt.figure (figsize = (12, 4))\n",
    "plt.step(times, traj, where='post', label ='state')\n",
    "plt.yticks (range(len(states)), states)\n",
    "plt.xlabel ('Time (years)')\n",
    "plt.ylabel('Disease state')\n",
    "plt.title ('Simulated Patient Disease Trajectory(CTMM)')\n",
    "plt.grid(True)\n",
    "plt.show()"
   ]
  },
  {
   "cell_type": "markdown",
   "id": "0665e596",
   "metadata": {},
   "source": [
    "\n",
    "Next Steps and Extensions:\n",
    "\n",
    "Try changing transition rates in Q to simulate faster/slower disease progression.\n",
    "\n",
    "Fit CTMM parameters from real patient data using maximum likelihood or Bayesian methods.\n",
    "\n",
    "Extend to time-dependent covariates or competing risks."
   ]
  },
  {
   "cell_type": "markdown",
   "id": "4a19decf",
   "metadata": {},
   "source": [
    "# References \n",
    "\n",
    " - Jönsson et al. (2024). \"Markov models in pharmacometrics.\" CPT: Pharmacometrics & Systems Pharmacology.\n",
    "- Kalbfleisch & Lawless (1985). The analysis of panel data under a Markov assumption.\n",
    " - Jackson (2011). Multi-State Models for Panel Data: The msm package in R.\n",
    "\n",
    "- Ooi QX, Plan E, Bergstrand M. A tutorial on pharmacometric Markov models. CPT Pharmacometrics Syst Pharmacol. 2025 Feb;14(2):197-216."
   ]
  },
  {
   "cell_type": "code",
   "execution_count": null,
   "id": "c881274b",
   "metadata": {},
   "outputs": [],
   "source": []
  },
  {
   "cell_type": "code",
   "execution_count": null,
   "id": "1cd861c8",
   "metadata": {},
   "outputs": [],
   "source": []
  },
  {
   "cell_type": "code",
   "execution_count": null,
   "id": "f65c7bb2",
   "metadata": {},
   "outputs": [],
   "source": []
  }
 ],
 "metadata": {
  "kernelspec": {
   "display_name": ".venv",
   "language": "python",
   "name": "python3"
  },
  "language_info": {
   "codemirror_mode": {
    "name": "ipython",
    "version": 3
   },
   "file_extension": ".py",
   "mimetype": "text/x-python",
   "name": "python",
   "nbconvert_exporter": "python",
   "pygments_lexer": "ipython3",
   "version": "3.9.0"
  }
 },
 "nbformat": 4,
 "nbformat_minor": 5
}
