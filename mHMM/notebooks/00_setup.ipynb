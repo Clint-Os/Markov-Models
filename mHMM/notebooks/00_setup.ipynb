{
 "cells": [
  {
   "cell_type": "markdown",
   "id": "613d1c76",
   "metadata": {},
   "source": [
    "# Setup and Env check\n",
    "\n",
    "This notebook verifies our environment, confirms all dependencies are installed,\n",
    "and ensures that the folder structure for the *Mixed Hidden Markov Model (mHMM)* project is complete.\n",
    "\n",
    "It should be run first before `01_model_math.ipynb`."
   ]
  },
  {
   "cell_type": "code",
   "execution_count": 3,
   "id": "a38ab32b",
   "metadata": {},
   "outputs": [
    {
     "name": "stdout",
     "output_type": "stream",
     "text": [
      "Python version: 3.10.19 | packaged by conda-forge | (main, Oct 22 2025, 22:23:22) [MSC v.1944 64 bit (AMD64)]\n",
      "Platform: Windows 10\n",
      "Python Environment Check\n"
     ]
    }
   ],
   "source": [
    "import sys\n",
    "import os\n",
    "import platform\n",
    "import importlib.util\n",
    "\n",
    "print(f\"Python version: {sys.version}\")\n",
    "\n",
    "print(f\"Platform: {platform.system()} {platform.release()}\")\n",
    "\n",
    "print(\"Python Environment Check\")"
   ]
  },
  {
   "cell_type": "code",
   "execution_count": 4,
   "id": "75c7a6d6",
   "metadata": {},
   "outputs": [
    {
     "name": "stdout",
     "output_type": "stream",
     "text": [
      "Checking required packages...\n",
      " - numpy: Installed\n",
      " - scipy: Installed\n",
      " - pandas: Installed\n",
      " - matplotlib: Installed\n",
      " - seaborn: Installed\n",
      " - tqdm: Installed\n",
      " - jupyter: Installed\n",
      " - joblib: Installed\n",
      " - numba: Installed\n",
      " - cmdstanpy: Installed\n",
      "\n",
      "All required packages are installed.\n"
     ]
    },
    {
     "name": "stderr",
     "output_type": "stream",
     "text": [
      "c:\\Users\\user\\anaconda3\\envs\\mhmm_env\\lib\\site-packages\\tqdm\\auto.py:21: TqdmWarning: IProgress not found. Please update jupyter and ipywidgets. See https://ipywidgets.readthedocs.io/en/stable/user_install.html\n",
      "  from .autonotebook import tqdm as notebook_tqdm\n"
     ]
    }
   ],
   "source": [
    "#Verify dependencies\n",
    "\n",
    "required_packages = [\n",
    "    \"numpy\",\"scipy\",\"pandas\",\"matplotlib\",\"seaborn\",\"tqdm\",\"jupyter\",\n",
    "    \"joblib\",\"numba\",\"cmdstanpy\"]\n",
    "\n",
    "print (\"Checking required packages...\")\n",
    "\n",
    "missing = []\n",
    "\n",
    "for pkg in required_packages:\n",
    "    try:\n",
    "        importlib.import_module(pkg)\n",
    "        print(f\" - {pkg}: Installed\")\n",
    "    except ImportError:\n",
    "        print(f\" - {pkg}: MISSING\")\n",
    "        missing.append(pkg)\n",
    "\n",
    "if missing:\n",
    "    pint(\"\\nMissing packages detected\")\n",
    "    print(\" conda forge install \" + \" \".join(missing))\n",
    "else:\n",
    "    print(\"\\nAll required packages are installed.\")"
   ]
  },
  {
   "cell_type": "code",
   "execution_count": 5,
   "id": "8f949681",
   "metadata": {},
   "outputs": [
    {
     "name": "stdout",
     "output_type": "stream",
     "text": [
      "\n",
      "📁 Checking folder structure in: c:\\Users\\user\\clone repo\\Markov-Models\\mHMM\n",
      "Folder exists: models\n",
      "Folder exists: models/stan\n",
      "Folder exists: data\n",
      "Folder exists: data/simulated\n",
      "Folder exists: data/results\n"
     ]
    }
   ],
   "source": [
    "base_dir = os.path.abspath(os.path.join(os.getcwd(), \"..\"))\n",
    "folders = [\n",
    "    \"models\",\n",
    "    \"models/stan\",\n",
    "    \"data\",\n",
    "    \"data/simulated\",\n",
    "    \"data/results\"\n",
    "]\n",
    "\n",
    "print(\"\\n📁 Checking folder structure in:\", base_dir)\n",
    "\n",
    "for folder in folders:\n",
    "    path = os.path.join(base_dir, folder)\n",
    "    if not os.path.exists(path):\n",
    "        os.makedirs(path)\n",
    "        print(f\" Created missing folder: {folder}\")\n",
    "    else:\n",
    "        print(f\"Folder exists: {folder}\")\n"
   ]
  },
  {
   "cell_type": "code",
   "execution_count": 6,
   "id": "ff5f7f30",
   "metadata": {},
   "outputs": [
    {
     "name": "stdout",
     "output_type": "stream",
     "text": [
      "✅ CmdStan found at: C:\\Users\\user\\anaconda3\\envs\\mhmm_env\\Library\\bin\\cmdstan\n"
     ]
    }
   ],
   "source": [
    "#Confirm CmdStan installation\n",
    "from cmdstanpy import cmdstan_path, install_cmdstan\n",
    "\n",
    "try:\n",
    "    path = cmdstan_path()\n",
    "    print(f\"✅ CmdStan found at: {path}\")\n",
    "except ValueError:\n",
    "    print(\"⚠️ CmdStan not installed yet. Installing now... (this may take ~10–15 minutes)\")\n",
    "    install_cmdstan()\n"
   ]
  },
  {
   "cell_type": "code",
   "execution_count": 7,
   "id": "66a12237",
   "metadata": {},
   "outputs": [
    {
     "data": {
      "image/png": "[encoded data removed]",
      "text/plain": [
       "<Figure size 640x480 with 1 Axes>"
      ]
     },
     "metadata": {},
     "output_type": "display_data"
    },
    {
     "name": "stdout",
     "output_type": "stream",
     "text": [
      "\n",
      " Basic plotting and NumPy operations work correctly.\n"
     ]
    }
   ],
   "source": [
    "#Sanity Check Plot\n",
    "import numpy as np\n",
    "import matplotlib.pyplot as plt\n",
    "\n",
    "x = np.linspace(-3, 3, 100)\n",
    "y = 1/ (1+ np.exp(-x)) # Sigmoid function\n",
    "\n",
    "plt.plot(x, y, label=\"logistic(x)\")\n",
    "plt.title(\"Sanity Check: Logistic Function\")\n",
    "plt.xlabel(\"x\")\n",
    "plt.ylabel(\"y\")\n",
    "plt.legend()\n",
    "plt.grid(True)\n",
    "plt.show()\n",
    "\n",
    "print(\"\\n Basic plotting and NumPy operations work correctly.\")"
   ]
  },
  {
   "cell_type": "markdown",
   "id": "85bb83f6",
   "metadata": {},
   "source": [
    "## Summary\n",
    "# If:\n",
    "- [x] Python environment verified  \n",
    "- [x] Required packages installed  \n",
    "- [x] Folder structure confirmed  \n",
    "- [x] CmdStan installed and ready  \n",
    "- [x] Basic math and plotting operational  \n",
    "\n",
    "# Then: \n",
    "-Open **`01_model_math.ipynb`** to begin implementing the mathematical model equations (Eqs. 1–10 from the paper).\n"
   ]
  },
  {
   "cell_type": "code",
   "execution_count": null,
   "id": "fca2a141",
   "metadata": {},
   "outputs": [],
   "source": []
  }
 ],
 "metadata": {
  "kernelspec": {
   "display_name": "mhmm_env",
   "language": "python",
   "name": "python3"
  },
  "language_info": {
   "codemirror_mode": {
    "name": "ipython",
    "version": 3
   },
   "file_extension": ".py",
   "mimetype": "text/x-python",
   "name": "python",
   "nbconvert_exporter": "python",
   "pygments_lexer": "ipython3",
   "version": "3.10.19"
  }
 },
 "nbformat": 4,
 "nbformat_minor": 5
}
