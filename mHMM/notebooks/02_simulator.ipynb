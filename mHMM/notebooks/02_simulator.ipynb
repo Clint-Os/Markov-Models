{
 "cells": [
  {
   "cell_type": "markdown",
   "id": "ade2b535",
   "metadata": {},
   "source": [
    "# 02 – Data Simulator (Reference Scenario)\n",
    "\n",
    "In this notebook, we generate simulated data based on the *reference scenario* \n",
    "in our paper **\"Handling underlying discrete variables with bivariate mixed hidden Markov models in NONMEM.\"**\n",
    "\n",
    "It uses:\n",
    "- `EmissionModel` (Eqs 1–6)\n",
    "- `TransitionModel` (Eqs 7–10)\n",
    "\n",
    "and produces:\n",
    "- Hidden state sequences for each individual  \n",
    "- Observed `FEV1` and `PRO` trajectories  \n",
    "- Output dataset (`data/simulated/ref_scenario.csv`)\n"
   ]
  },
  {
   "cell_type": "code",
   "execution_count": null,
   "id": "097e3bfd",
   "metadata": {},
   "outputs": [],
   "source": [
    "import numpy as np\n",
    "import matplotlib.pyplot as plt\n",
    "import pandas as pd\n",
    "from tqdm import tqdm\n",
    "\n",
    "from models.emissions import EmissionModel\n",
    "from models.transitions import TransitionModel"
   ]
  },
  {
   "cell_type": "markdown",
   "id": "32b4141c",
   "metadata": {},
   "source": [
    "Simulate Hidden State Sequence"
   ]
  },
  {
   "cell_type": "code",
   "execution_count": null,
   "id": "b89a3e56",
   "metadata": {},
   "outputs": [],
   "source": [
    "def simulate_states(T, init_probs, trans_mat, rng=None):\n",
    "    \"\"\"\n",
    "    Simulate hidden state sequence S_0:T-1 given tranition matrix.\n",
    "    \n",
    "    Returns:\n",
    "        states: array of shape (T,) with hidden states\n",
    "    \"\"\"\n",
    "\n",
    "    rng = np.random.default_rng(rng)  # Use default random generator if none provided\n",
    "    n_states = len(init_probs)\n",
    "\n",
    "    states = np.zeros(T, dtype =int)\n",
    "    states[0] = rng.choice(n_states, p=init_probs)\n",
    "\n",
    "    for t in range(1, T):\n",
    "        states[t] = rng.choice(n_states, p=trans_mat[states[t-1], :]) # Sample next state based on previous state\n",
    "    return states"
   ]
  },
  {
   "cell_type": "markdown",
   "id": "ea9ac915",
   "metadata": {},
   "source": [
    "Generate emissions per time step"
   ]
  },
  {
   "cell_type": "code",
   "execution_count": null,
   "id": "b50257b3",
   "metadata": {},
   "outputs": [],
   "source": [
    "def simulate_observations(em_model, g, times, states, rng=None):\n",
    "    \"\"\"\n",
    "    Generate observed (FEV1, PRO) given emission model, random effects g, time series \n",
    "    and state sequence\n",
    "    \"\"\"\n",
    "    rng = np.random.default_rng(rng)  # Use default random generator if none provided\n",
    "    obs = np.zeros((len(times), 2))  # Assuming 2D observations (FEV1, PRO)\n",
    "    for i, t in enumerate(times):\n",
    "        mu = np.array([\n",
    "            em_model.individual_fev1(g, states[i]),\n",
    "            em_model.individual_pro(g, t, states[i])\n",
    "        ])\n",
    "        cov = em_model.emission_cov(states[i])\n",
    "        obs[i] = rng.multivariate_normal(mu, cov)\n",
    "    return obs"
   ]
  },
  {
   "cell_type": "markdown",
   "id": "1acb09dd",
   "metadata": {},
   "source": [
    "Reference scenario parameters as in table 1 of the paper"
   ]
  },
  {
   "cell_type": "code",
   "execution_count": null,
   "id": "fc4306e3",
   "metadata": {},
   "outputs": [],
   "source": [
    "#simulation settings\n",
    "N_SUBJ = 100\n",
    "T_WEEKS = 60\n",
    "times = np.arange(T_WEEKS)\n",
    "init_probs = np.array([0.9, 0.1])  # Initial state probabilities P(S0=Remission) = 0.9, P(S0=Exacerbation) = 0.1\n",
    "rng = np.random.default_rng(123)  # For reproducibility\n",
    "\n",
    "init_probs = np.array([0.9, 0.1])\n",
    "\n",
    "em = EmissionModel(\n",
    "    hFEV1R=2.0, hFEV1E=0.25,\n",
    "    x2_FEV1R=0.03, x2_FEV1E=0.03,\n",
    "    hPROR=2.5, hPROE=0.5,\n",
    "    x2_PROR=0.09, x2_PROE=0.09,\n",
    "    r2_FEV1=0.015, r2_PRO=0.05,\n",
    "    qR=-0.33, qE=-0.33,\n",
    "    PE=0.2, PHL=10.0\n",
    ")\n",
    "\n",
    "tm = TransitionModel(hpRE=0.05, hpER=0.15, SLP=1.0)\n",
    "trans_mat = tm.transition_matrix() # Get transition matrix"
   ]
  },
  {
   "cell_type": "code",
   "execution_count": null,
   "metadata": {},
   "outputs": [],
   "source": [
    "records = []\n",
    "\n",
    "for subj in tqdm(range(1, N_SUBJ + 1), desc= \"Simulating subjects\"):\n",
    "    g= em.sample_individual_effects(rng=rng)  # Sample random effects for subject\n",
    "    states = simulate_states(T_WEEKS, init_probs, trans_mat, rng=rng)  # Simulate hidden states\n",
    "    obs = simulate_observations(em, g, times, states, rng=rng)  # Generate observations \n",
    "\n",
    "    for t, y in enumerate(obs):\n",
    "        records.append({\n",
    "            \"ID\": subj,\n",
    "            \"Week\": t,\n",
    "            \"State\": states[t],\n",
    "            \"FEV1\": y[0],\n",
    "            \"PRO\": y[1]\n",
    "        })\n",
    "\n",
    "df = pd.DataFrame(records) \n",
    "df.head() "
   ]
  },
  {
   "cell_type": "code",
   "execution_count": null,
   "id": "6a0c9320",
   "metadata": {},
   "outputs": [],
   "source": [
    "output_path = \"../data/simulated/ref_scenario.csv\"\n",
    "df.to_csv(output_path, index=False)\n",
    "print(f\"Simulated data saved to {output_path}\")\n",
    "print(df.shape)"
   ]
  },
  {
   "cell_type": "markdown",
   "id": "0af2be94",
   "metadata": {},
   "source": [
    "Visualization"
   ]
  },
  {
   "cell_type": "code",
   "execution_count": null,
   "id": "5a6abffb",
   "metadata": {},
   "outputs": [],
   "source": [
    "sample_subjects = df['ID'].unique()[:5] # Select first 5 subjects for visualization\n",
    "fig, axes = plt.subplots(2, 1, figsize = (10,6), sharex=True)\n",
    "\n",
    "for sid in sample_subjects:\n",
    "    sub = df[df['ID'] == sid]\n",
    "    axes[0].plot(sub[\"Week\"], sub[\"FEV1\"], label=f\"ID {sid}\")\n",
    "    axes[1].plot(sub[\"Week\"], sub[\"PRO\"], label=f\"ID {sid}\")\n",
    "\n",
    "axes[0].set_ylabel(\"FEV1\")\n",
    "axes[1].set_ylabel(\"PRO\")\n",
    "axes[1].set_xlabel(\"Week\")\n",
    "axes[0].legend()\n",
    "plt.suptitle(\"Simulated FEV1 and PRO trajectories for Sample Subjects\")\n",
    "plt.tight_layout()\n",
    "plt.show()"
   ]
  },
  {
   "cell_type": "markdown",
   "id": "4871ee9d",
   "metadata": {},
   "source": [
    "## Summary\n",
    "\n",
    "Thus far we have:\n",
    "-Simulated hidden state sequences for 100 subjects over 60 weeks\n",
    "\n",
    "-Generated observed (FEV1, PRO) data from the emission model\n",
    "\n",
    "-Saved the dataset to csv\n",
    "\n",
    "Next steps:\n",
    "Open the \"03_estimation.ipynb\" notebook to fit this dataset using the forward algorithm (Max Likelihood Estimation) or a \n",
    "Bayesian approach (Stanpy)"
   ]
  },
  {
   "cell_type": "code",
   "execution_count": null,
   "id": "a80f3eb5",
   "metadata": {},
   "outputs": [],
   "source": []
  },
  {
   "cell_type": "code",
   "execution_count": null,
   "id": "ecfbcbfc",
   "metadata": {},
   "outputs": [],
   "source": []
  },
  {
   "cell_type": "code",
   "execution_count": null,
   "id": "3246c82c",
   "metadata": {},
   "outputs": [],
   "source": []
  },
  {
   "cell_type": "code",
   "execution_count": null,
   "id": "94d033b4",
   "metadata": {},
   "outputs": [],
   "source": []
  }
 ],
 "metadata": {
  "kernelspec": {
   "display_name": "mhmm_env",
   "language": "python",
   "name": "python3"
  },
  "language_info": {
   "name": "python",
   "version": "3.10.19"
  }
 },
 "nbformat": 4,
 "nbformat_minor": 5
}
